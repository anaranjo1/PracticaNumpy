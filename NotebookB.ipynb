{
 "cells": [
  {
   "attachments": {},
   "cell_type": "markdown",
   "id": "b69f664d",
   "metadata": {},
   "source": [
    "## Notebook B \n",
    "\n",
    "En este segundo *notebook* analizaremos los datos relativos a la *\"Speculation Watch List\"* o Lista de Vigilancia Especulativa de la ciudad de Nueva York.\n",
    "\n",
    "Esta lista incluye viviendas con alquileres regulados que se han vendido a precios muy superiores a los esperados, lo que puede indicar que los nuevos propietarios pueden subir los alquileres, reducir los servicios o forzar la salida de los inquilinos de alquiler regulado para rentabilizar su inversión. Los edificios incluidos en esta lista poseen tasas de capitalización más bajas que la media de cada distrito o *borough* (lo cual significa que los beneficios del edificio no compensan el precio de compra).\n",
    "\n",
    "Fuente del dataset:\n",
    "https://data.cityofnewyork.us/Housing-Development/Speculation-Watch-List/adax-9mit"
   ]
  },
  {
   "cell_type": "markdown",
   "id": "87910251",
   "metadata": {},
   "source": [
    "#### Carga de los datos"
   ]
  },
  {
   "cell_type": "code",
   "execution_count": 16,
   "id": "39fd5d42",
   "metadata": {},
   "outputs": [
    {
     "name": "stdout",
     "output_type": "stream",
     "text": [
      "(534, 23)\n",
      "<class 'numpy.ndarray'>\n"
     ]
    }
   ],
   "source": [
    "import numpy as np\n",
    "\n",
    "#empleamos la codificación 'utf-8' para poder visualizar correctamente los carácteres especiales.\n",
    "#con \"usecols = 23\" descartamos el uso de la columna \"Location1\" ya que esta variable no será utilizada.\n",
    "speculation = np.genfromtxt('data/Speculation_Watch_List.csv', delimiter=',', skip_header=1, dtype = str, encoding='utf-8', usecols=np.arange(0,23))\n",
    "\n",
    "print(speculation.shape) #comprobamos su estructura o forma.\n",
    "print(type(speculation)) #vemos que es un array de numpy.\n"
   ]
  },
  {
   "cell_type": "markdown",
   "id": "37aabdaf",
   "metadata": {},
   "source": [
    "#### PRIMER INDICADOR\n",
    "\n",
    "En primer lugar, vamos a ordenar de mayor a menor (orden descendente) el precio de las viviendas compradas durante el segundo trimestre de 2022 (2022Q2) que están incluidas en esta lista."
   ]
  },
  {
   "cell_type": "code",
   "execution_count": 17,
   "id": "d6469bb9",
   "metadata": {},
   "outputs": [
    {
     "name": "stdout",
     "output_type": "stream",
     "text": [
      "[['\"MN' '1' '1244' '90' '1012440090' '98' '99' 'RIVERSIDE DRIVE'\n",
      "  '2022000213692' '98 RIVERSIDE CO. LLC' '05/09/2022' '90000000']\n",
      " ['\"MN' '1' '1868' '1' '1018680001' '740' '740' 'WEST END AVENUE'\n",
      "  '2022000278108' 'TARGAM NY LLC' '06/30/2022' '50750000']\n",
      " ['\"BK' '3' '2371' '34' '3023710034' '487' '487' 'KEAP STREET'\n",
      "  '2022000242394' 'KEAP MANOR LLC' '06/02/2022' '36300000']\n",
      " ['\"BX' '2' '3982' '1' '2039820001' '2501' '2509' 'TRATMAN AVENUE'\n",
      "  '2022000208808' 'TRATMAN GARDENS LLC' '05/03/2022' '19900000']\n",
      " ['\"MN' '1' '1065' '44' '1010650044' '418' '424' 'WEST 56 STREET'\n",
      "  '2022000204211' '418-424W56 OWNER LLC' '05/13/2022' '19000000']\n",
      " ['\"MN' '1' '540' '23' '1005400023' '100' '100' 'WEST 3 STREET'\n",
      "  '2022000245275' '240 SULL LLC' '06/01/2022' '17000000']\n",
      " ['\"BX' '2' '3324' '11' '2033240011' '75' '' 'W MOSHOLU PARKWAY N'\n",
      "  '2022000255776' '1260 SHAKESPEARE GROUP LLC' '06/01/2022' '16000000']\n",
      " ['\"BX' '2' '4238' '27' '2042380027' '3120' '3120' 'WILKINSON AVENUE'\n",
      "  '2022000191736' 'SHABAN REALTY LLC' '04/25/2022' '12100000']\n",
      " ['\"BX' '2' '2461' '74' '2024610074' '955' '955' 'SHERIDAN AVENUE'\n",
      "  '2022000265296' '955 SHERIDAN REALTY LLC' '06/27/2022' '12000000']\n",
      " ['\"MN' '1' '1847' '42' '1018470042' '312' '312' 'MANHATTAN AVENUE'\n",
      "  '2022000254620' 'NAMDAR 310-312 MANHATTAN AVE LLC' '06/13/2022'\n",
      "  '11300000']\n",
      " ['\"BK' '3' '1052' '44' '3010520044' '572' '572' '5 AVENUE'\n",
      "  '2022000231220' '572 5TH AVE REALTY LLC' '05/10/2022' '10275000']\n",
      " ['\"MN' '1' '2110' '24' '1021100024' '596' '596' 'EDGECOMBE AVENUE'\n",
      "  '2022000246284' '596 EDGECOMBE LLC' '05/31/2022' '10100000']\n",
      " ['\"MN' '1' '2139' '508' '1021390508' '830' '830' 'WEST 177 STREET'\n",
      "  '2022000245369' '830 W. 177TH ST. LLC' '05/25/2022' '8300000']\n",
      " ['\"BX' '2' '3380' '56' '2033800056' '273' '273' 'EAST 239 STREET'\n",
      "  '2022000188734' 'TURNER OPERATING LLC' '04/28/2022' '8000000']\n",
      " ['\"BX' '2' '2456' '75' '2024560075' '1127' '1127' 'SHERIDAN AVENUE'\n",
      "  '2022000210526' '1125-1127 S LLC' '05/11/2022' '8000000']\n",
      " ['\"BX' '2' '2726' '66' '2027260066' '1039' '1039' 'SIMPSON STREET'\n",
      "  '2022000213371' '1027 GV LLC' '05/10/2022' '7975000']\n",
      " ['\"BX' '2' '3220' '10' '2032200010' '2518' '2518' 'WEBB AVENUE'\n",
      "  '2022000172488' 'WEBLIN LLC' '04/12/2022' '7952000']\n",
      " ['\"BK' '3' '1792' '6' '3017920006' '766' '766' 'LAFAYETTE AVENUE'\n",
      "  '2022000191729' 'REDA 766 LAFAYETTE LLC' '04/07/2022' '7275000']\n",
      " ['\"BK' '3' '6751' '12' '3067510012' '1414' '1414' 'EAST 14 STREET'\n",
      "  '2022000251743' '1414 EAST 14TH CORP.' '06/09/2022' '7000000']\n",
      " ['\"BX' '2' '2579' '19' '2025790019' '718' '726' 'EAST 149 STREET'\n",
      "  '2022000255709' 'BAYCREST JACKSON REALTY LLC' '06/16/2022' '6607000']\n",
      " ['\"BK' '3' '6559' '1' '3065590001' '2301' '2301' '65 STREET'\n",
      "  '2022000261817' '2301 65 REALTY LLC' '06/16/2022' '6250000']\n",
      " ['\"BK' '3' '1239' '5' '3012390005' '1467' '1467' 'BEDFORD AVENUE'\n",
      "  '2022000276840' '1467 BEDFORD STREET LLC' '06/21/2022' '5400000']\n",
      " ['\"BX' '2' '5386' '17' '2053860017' '2820' '2820' 'MIDDLETOWN ROAD'\n",
      "  '2022000272802' 'MIKA REALTY LLC' '06/24/2022' '4700000']\n",
      " ['\"QN' '4' '622' '80' '4006220080' '34-11' '34-11' '34 AVENUE'\n",
      "  '2022000278007' 'AMORE APARTMENTS LLC' '06/28/2022' '4650000']\n",
      " ['\"BX' '2' '3173' '48' '2031730048' '2415' '2415' 'CRESTON AVENUE'\n",
      "  '2022000162109' '2415 C LLC' '04/07/2022' '4400000']\n",
      " ['\"BK' '3' '7548' '43' '3075480043' '2004' '2004' 'GLENWOOD ROAD'\n",
      "  '2022000250724' '2004 GLENWOOD LLC' '06/07/2022' '4150000']\n",
      " ['\"BX' '2' '3128' '5' '2031280005' '2114' '2114' 'DALY AVENUE'\n",
      "  '2022000244659' '2114 DALY AVE LLC' '06/01/2022' '4100000']\n",
      " ['\"QN' '4' '9185' '48' '4091850048' '102-05' '102-05' '86 AVENUE'\n",
      "  '2022000297874' 'EVELYNG LLC' '06/22/2022' '4000000']\n",
      " ['\"BX' '2' '3315' '28' '2033150028' '2750' '2750' 'CRESTON AVENUE'\n",
      "  '2022000200594' '2750 CREST LLC' '05/05/2022' '3750000']\n",
      " ['\"BK' '3' '642' '33' '3006420033' '168' '168' '21 STREET'\n",
      "  '2022000185241' '168 21ST STREET LLC' '04/26/2022' '3700000']\n",
      " ['\"BK' '3' '750' '34' '3007500034' '768' '768' '45 STREET'\n",
      "  '2022000213612' '110 REALTY LLC' '05/06/2022' '3500000']\n",
      " ['\"BK' '3' '5085' '96' '3050850096' '167' '167' 'LINDEN BOULEVARD'\n",
      "  '2022000204748' 'PLG ACQUISITIONS LLC' '04/28/2022' '3500000']\n",
      " ['\"BX' '2' '2268' '14' '2022680014' '522' '524' 'EAST 142 STREET'\n",
      "  '2022000244829' '522 EAST 142ND ST LLC' '06/02/2022' '3500000']\n",
      " ['\"QN' '4' '653' '53' '4006530053' '24-40' '24-40' '38 STREET'\n",
      "  '2022000215334' '121-16 LIBERTY LLC' '05/12/2022' '3200000']\n",
      " ['\"BX' '2' '2410' '1' '2024100001' '271' '271' 'EAST 150 STREET'\n",
      "  '2022000244001' 'EAST 171 LLC' '05/31/2022' '3150000']\n",
      " ['\"BK' '3' '1514' '8' '3015140008' '334' '334' 'CHAUNCEY STREET'\n",
      "  '2022000200320' 'CHAUNCEY NY LLC' '04/28/2022' '2950000']\n",
      " ['\"BK' '3' '5874' '51' '3058740051' '6914' '6914' '6 AVENUE'\n",
      "  '2022000217688' '6914 LAYEM REALTY LLC' '05/05/2022' '2850000']\n",
      " ['\"BK' '3' '5374' '57' '3053740057' '555' '559' 'EAST 5 STREET'\n",
      "  '2022000235677' 'RDJ HOUSING LLC' '06/01/2022' '2800000']\n",
      " ['\"BK' '3' '3704' '31' '3037040031' '240' '240' 'NEW JERSEY AVENUE'\n",
      "  '2022000224889' '240 NEW JERSEY AVE LLC' '05/19/2022' '2280000']\n",
      " ['\"BX' '2' '2434' '4' '2024340004' '1110' '1110' 'COLLEGE AVENUE'\n",
      "  '2022000265918' '1110 COLL AVE. LLC' '06/24/2022' '1650000']\n",
      " ['\"SI' '5' '1005' '19' '5010050019' '90' '90' 'PARK AVENUE'\n",
      "  '2022000297763' '90 PARK GARDENS LLC' '06/29/2022' '1400000']]\n"
     ]
    }
   ],
   "source": [
    "#filtramos la columna \"yearqtr\" para poder obtener los datos más recientes del año 2022.\n",
    "\n",
    "filtro1 = np.asarray(['2022Q2'])\n",
    "#la función \"np.in1d\" permite comprobar si un elemento de un array está presente en otro.\n",
    "arrayfiltrado1 = speculation[np.in1d(speculation[:, 14], filtro1)] \n",
    "\n",
    "arrayfiltrado1 = np.delete(arrayfiltrado1, slice(12,23), 1) #eliminamos el resto de las columnas que aparecen después de la columna \"price\" para \n",
    "#facilitar la lectura de los datos.\n",
    "\n",
    "precio = arrayfiltrado1[arrayfiltrado1[:, 11].astype(int).argsort()][::-1] #ordenamos de mayor a menor los datos según el precio de las viviendas.\n",
    "#[::-1] se utiliza para invertir el orden del array. Finalmente, obtenemos un array ordenado con los edificios ordenados de mayor a menor precio. \n",
    "print(precio)\n"
   ]
  },
  {
   "cell_type": "markdown",
   "id": "27835820",
   "metadata": {},
   "source": [
    "#### SEGUNDO INDICADOR\n",
    "\n",
    "Una vez ordenados los precios de las viviendas de mayor a menor, queremos averiguar cuántos edificios incluidos en la *\"Speculation Watch List\"* se han vendido en Nueva York según el *borough* o distrito donde se sitúa dicha propiedad para el segundo trimestre de 2022."
   ]
  },
  {
   "cell_type": "code",
   "execution_count": 18,
   "id": "a5adebba",
   "metadata": {},
   "outputs": [
    {
     "name": "stdout",
     "output_type": "stream",
     "text": [
      "(array(['\"BK', '\"BX', '\"MN', '\"QN', '\"SI'], dtype='<U73'), array([14, 16,  7,  3,  1], dtype=int64))\n"
     ]
    }
   ],
   "source": [
    "#buscamos los valores únicos en la primera columna del array (\"borough\").\n",
    "frecuencia = np.unique(precio[:,0], return_counts=True)\n",
    "print(frecuencia) "
   ]
  },
  {
   "cell_type": "markdown",
   "id": "39433752",
   "metadata": {},
   "source": [
    "Por tanto, en Brooklyn se han vendido 14 propiedades de este tipo, en El Bronx unas 16, unas 7 en Manhattan, 3 en Queens y 1 en Staten Island."
   ]
  },
  {
   "cell_type": "markdown",
   "id": "fe157599",
   "metadata": {},
   "source": [
    "#### TERCER INDICADOR\n",
    "\n",
    "Dada la importancia de la tasa de capitalización (*capitalization rate*) para determinar si una compra de edificios entra en la *\"Speculation Watch List\"*, vamos a calcular la diferencia entre el `cap_rate` y el `borough_cap_rate` (tasa de capitalización promedio del distrito donde se encuentra la vivienda). En este caso, para dar continuidad a lo realizado anteriormente, volvemos a utilizar los datos del segundo trimestre de 2022."
   ]
  },
  {
   "cell_type": "code",
   "execution_count": 19,
   "id": "0af7f1a3",
   "metadata": {},
   "outputs": [
    {
     "name": "stdout",
     "output_type": "stream",
     "text": [
      "[0.017 0.016 0.013 0.013 0.01  0.013 0.012 0.006 0.006 0.019 0.007 0.001\n",
      " 0.009 0.006 0.015 0.025 0.006 0.009 0.002 0.013 0.01  0.005 0.009 0.009\n",
      " 0.001 0.008 0.014 0.018 0.007 0.005 0.008 0.005 0.003 0.017 0.011 0.007\n",
      " 0.02  0.022 0.007 0.003 0.013]\n"
     ]
    }
   ],
   "source": [
    "#filtramos los datos de ventas pertenecientes al segundo trimestre de 2022.\n",
    "filtro3 = np.asarray(['2022Q2'])\n",
    "arrayfiltrado3 = speculation[np.in1d(speculation[:, 14], filtro3)]\n",
    "\n",
    "#creamos un array nuevo con cada columna\n",
    "cap_rate = arrayfiltrado3[:,12].astype(float)\n",
    "borough_cap_rate = arrayfiltrado3[:,13].astype(float)\n",
    "\n",
    "#restamos los arrays anteriores para obtener la diferencia entre la tasa de capitalización media del distrito y \n",
    "#la tasa de capitalización de la vivienda sospechosa de haber sido comprada con fines especulativos\n",
    "array_diferencia = np.subtract(borough_cap_rate, cap_rate)\n",
    "print(array_diferencia)\n"
   ]
  },
  {
   "attachments": {},
   "cell_type": "markdown",
   "id": "2501a8e7",
   "metadata": {},
   "source": [
    "Como era de esperar, obtenemos que la capitalización media de las viviendas dentro de la *\"Speculation Watch List\"* es siempre inferior a la capitalización media del distrito donde se encuentran (no habrá ningún valor negativo en el array resultante)."
   ]
  },
  {
   "attachments": {},
   "cell_type": "markdown",
   "id": "12b4608c",
   "metadata": {},
   "source": [
    "#### CUARTO INDICADOR\n",
    "\n",
    "Finalmente, vamos a realizar un boxplot de la diferencia entre el `cap_rate`y el `borough_cap_rate` (tasa de capitalización promedio del distrito). Esta representación gráfica nos permitirá darnos una idea intuitiva de dónde se sitúan la mediana, los cuartiles y los valores atípicos."
   ]
  },
  {
   "cell_type": "code",
   "execution_count": 20,
   "id": "def6f792",
   "metadata": {},
   "outputs": [
    {
     "data": {
      "image/png": "[encoded data removed]",
      "text/plain": [
       "<Figure size 600x500 with 1 Axes>"
      ]
     },
     "metadata": {},
     "output_type": "display_data"
    },
    {
     "name": "stdout",
     "output_type": "stream",
     "text": [
      "La mediana es de: 0.009000000000000001\n",
      "El primer cuartil presenta un valor de: 0.006000000000000005\n",
      "El tercer cuartil presenta un valor de: 0.013000000000000005\n"
     ]
    }
   ],
   "source": [
    "import matplotlib.pyplot as plt\n",
    "\n",
    "fig = plt.figure(figsize =(6, 5))\n",
    "ax = fig.add_axes([0, 0, 1, 1])\n",
    "ax.set_title('Boxplot de la diferencia entre \"borough_cap_rate\" y  \"cap_rate\"')\n",
    "boxplot_diferencia_cap_rate = ax.boxplot(array_diferencia)\n",
    "plt.show()\n",
    "\n",
    "#adicionalmente, calculamos la mediana (línea naranja en el gráfico inferior)\n",
    "mediana = np.median(array_diferencia, axis=0)\n",
    "print(\"La mediana es de: \" + str(mediana))\n",
    "\n",
    "#calculamos el primer cuartil (línea inferior de la caja)\n",
    "q1 = np.quantile(array_diferencia, 0.25)\n",
    "print(\"El primer cuartil presenta un valor de: \" + str(q1))\n",
    "\n",
    "#calculamos el tercer cuartil (línea superior de la caja)\n",
    "q3 = np.quantile(array_diferencia, 0.75)\n",
    "print(\"El tercer cuartil presenta un valor de: \" + str(q3))\n",
    "\n"
   ]
  },
  {
   "attachments": {},
   "cell_type": "markdown",
   "id": "4ee3bd0a",
   "metadata": {},
   "source": [
    "Como observación final, podemos decir que la diferencia entre tasas de capitalización no llega a ser en la mayoría de casos superior al 1%. Debido a esto, podemos concluir que resultará difícil afirmar que una vivienda ha sido comprada con fines especulativos fijándonos solamente en la tasa de capitalización (pese a la importancia de este ratio, se deben analizar más indicadores o criterios para poder incluir una vivienda en la *\"Speculation Watch List\"*)."
   ]
  }
 ],
 "metadata": {
  "kernelspec": {
   "display_name": "Python 3 (ipykernel)",
   "language": "python",
   "name": "python3"
  },
  "language_info": {
   "codemirror_mode": {
    "name": "ipython",
    "version": 3
   },
   "file_extension": ".py",
   "mimetype": "text/x-python",
   "name": "python",
   "nbconvert_exporter": "python",
   "pygments_lexer": "ipython3",
   "version": "3.10.8"
  },
  "vscode": {
   "interpreter": {
    "hash": "6847c98a8f86b01c6a19c518cd2f366693b80566b266804d5ca763cbb223f52b"
   }
  }
 },
 "nbformat": 4,
 "nbformat_minor": 5
}
